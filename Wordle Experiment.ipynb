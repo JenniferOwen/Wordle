{
 "cells": [
  {
   "cell_type": "markdown",
   "metadata": {},
   "source": [
    "# Wordle Experiment\n",
    "\n",
    "In the game wordle, you are given six chances to guess a five letter word from the wordle dictionary. Each guess illuminates information about the letters in the word such as whether the letter is in the word: 'grey', the letter is in the word but not in the location given in your guess 'yellow' or whether the letter is in the word and in the right place: 'green'.\n",
    "\n",
    "In this file we test two different wordle strategies, run the simulations and determine the expected number of guesses for each method."
   ]
  },
  {
   "cell_type": "code",
   "execution_count": 1,
   "metadata": {},
   "outputs": [],
   "source": [
    "import pandas as pd\n",
    "from string import ascii_lowercase\n",
    "import string\n",
    "import numpy as np\n",
    "import matplotlib.pyplot as plt\n",
    "import random"
   ]
  },
  {
   "cell_type": "markdown",
   "metadata": {},
   "source": [
    "Here is a list of all the 5 letter words from wordle."
   ]
  },
  {
   "cell_type": "code",
   "execution_count": 2,
   "metadata": {},
   "outputs": [],
   "source": [
    "#Read in all the 5 letter words from wordle.\n",
    "dat=pd.read_csv('all_5_letter_words.csv')\n",
    "\n",
    "words=dat['List of words'].values\n",
    "for i in range(len(words)): #Iterate through string_list.\n",
    "    words[i] = words[i].lower()"
   ]
  },
  {
   "cell_type": "markdown",
   "metadata": {},
   "source": [
    "There are 2315 words in total."
   ]
  },
  {
   "cell_type": "code",
   "execution_count": 3,
   "metadata": {},
   "outputs": [
    {
     "data": {
      "text/plain": [
       "2315"
      ]
     },
     "execution_count": 3,
     "metadata": {},
     "output_type": "execute_result"
    }
   ],
   "source": [
    "len(words)"
   ]
  },
  {
   "cell_type": "markdown",
   "metadata": {},
   "source": [
    "Using the information we have about what the word might be, we have some prior knowledge about the distribution of these words such as the likelihoods that they contain 2 of the same letter, 3 of the same letter or 4 of the same letter"
   ]
  },
  {
   "cell_type": "code",
   "execution_count": 4,
   "metadata": {},
   "outputs": [],
   "source": [
    "k=[]\n",
    "for j in words:\n",
    "    k.append(len(set(j)))"
   ]
  },
  {
   "cell_type": "code",
   "execution_count": 5,
   "metadata": {},
   "outputs": [],
   "source": [
    "prob_4_same_letter=np.sum(np.array(k)==2)/len(k)\n",
    "prob_3_same_letter=np.sum(np.array(k)==3)/len(k)\n",
    "prob_2_same_letter=np.sum(np.array(k)==4)/len(k)\n",
    "prob_all_different=np.sum(np.array(k)==5)/len(k)"
   ]
  },
  {
   "cell_type": "markdown",
   "metadata": {},
   "source": [
    "To simulate wordle we first need to create a function that can give us outcomes of guesses given a word"
   ]
  },
  {
   "cell_type": "code",
   "execution_count": 7,
   "metadata": {},
   "outputs": [],
   "source": [
    "def outcome_of_guess(actual_word, guess):\n",
    "    outcome=[]\n",
    "    for i in np.arange(0,5):\n",
    "        letter=guess[i]\n",
    "        \n",
    "        if actual_word.count(letter)==0:\n",
    "            outcome.append('o')\n",
    "            \n",
    "        if actual_word[i]==letter:\n",
    "                outcome.append('g')\n",
    "        \n",
    "        if (actual_word[i]!=letter) & (actual_word.count(letter)>0):\n",
    "                outcome.append('y')\n",
    "    outcome=''.join(outcome)\n",
    "    return outcome "
   ]
  },
  {
   "cell_type": "markdown",
   "metadata": {},
   "source": [
    "We can test this as follows. Suppose the actual word is: 'watch' and I guess 'carts'"
   ]
  },
  {
   "cell_type": "code",
   "execution_count": 8,
   "metadata": {},
   "outputs": [
    {
     "data": {
      "text/plain": [
       "'ygoyo'"
      ]
     },
     "execution_count": 8,
     "metadata": {},
     "output_type": "execute_result"
    }
   ],
   "source": [
    "outcome_of_guess('watch', 'carts')"
   ]
  },
  {
   "cell_type": "markdown",
   "metadata": {},
   "source": [
    "We see that 'c' and 't' are the right letters but wrong location, 'a' is in the right location and 's' and 'r' are not in the word"
   ]
  },
  {
   "cell_type": "markdown",
   "metadata": {},
   "source": [
    "# Strategies"
   ]
  },
  {
   "cell_type": "markdown",
   "metadata": {},
   "source": [
    "We have two strategies with how we wish to play the game. In my strategy (strategy - Jen) we choose our next guess such that\n",
    "1. It satisfies all criteria given from previous guesses.\n",
    "2. If it is an incorrect guess it maximises the information we have for our next guess by choosing letters that are most likely to be in the word based on the word pool remaining after our previous guesses.\n",
    "We continue this until we guess the word."
   ]
  },
  {
   "cell_type": "markdown",
   "metadata": {},
   "source": [
    "In the other strategy (strategy - Tom) we choose our next guess so that:\n",
    "1. It maximises the information about the word by choosing letters that have not been chosen previously but are most likely to be in the word.\n",
    "\n",
    "We continue this until we narrow down our search to <3 options, or until we have information about all the letters and then we guess sequentially through the remaining list."
   ]
  },
  {
   "cell_type": "markdown",
   "metadata": {},
   "source": [
    "# First guess"
   ]
  },
  {
   "cell_type": "markdown",
   "metadata": {},
   "source": [
    "Both methods require the first guess to be the guess that contains the most likely letters to be in the word. We can compute this by searching the words in wordle for the most common letters."
   ]
  },
  {
   "cell_type": "code",
   "execution_count": 29,
   "metadata": {},
   "outputs": [],
   "source": [
    "#If it contains the letter then add one to the count\n",
    "def find_prior(words):\n",
    "    freq=[]\n",
    "    for letter in ascii_lowercase:\n",
    "        letter_use=0\n",
    "        i=+1\n",
    "        #print(words)\n",
    "        for j in words:\n",
    "            letter_use+=(j.count(letter)>0)\n",
    "        final=letter_use\n",
    "        freq.append(final)\n",
    "    prior_prob=np.array(freq)/len(words)\n",
    "    alphabet=list(string.ascii_lowercase)\n",
    "    #Our first prior probabilty \n",
    "    d = {'letter':alphabet, 'prob1': prior_prob}\n",
    "    df=pd.DataFrame(data=d)\n",
    "    return df"
   ]
  },
  {
   "cell_type": "code",
   "execution_count": 31,
   "metadata": {},
   "outputs": [
    {
     "data": {
      "text/plain": [
       "<BarContainer object of 26 artists>"
      ]
     },
     "execution_count": 31,
     "metadata": {},
     "output_type": "execute_result"
    },
    {
     "data": {
      "image/png": "[encoded data removed]",
      "text/plain": [
       "<Figure size 432x288 with 1 Axes>"
      ]
     },
     "metadata": {
      "needs_background": "light"
     },
     "output_type": "display_data"
    }
   ],
   "source": [
    "table=find_prior(words)\n",
    "table.sort_values(by='prob1')\n",
    "plt.bar(table['letter'],table['prob1'])"
   ]
  },
  {
   "cell_type": "markdown",
   "metadata": {},
   "source": [
    "To compute my next guess I look at the probability that a letter is in the word, and weight all the words by adding their probabilities together. The higher the value of the weighted word, the better and more informative the guess."
   ]
  },
  {
   "cell_type": "code",
   "execution_count": 32,
   "metadata": {},
   "outputs": [],
   "source": [
    "def next_guess_jen(prior_prob,words):\n",
    "    \n",
    "    #prior prob = table of letters and probability of appearance based on the valid words\n",
    "    #words = words remaining based on outcomes of previous guesses\n",
    "    \n",
    "    df=prior_prob\n",
    "    next_guess=[]\n",
    "    weighted_words=[]\n",
    "    for j in words:\n",
    "        ww=0\n",
    "        for letter in j:\n",
    "            ww+=df[df['letter']==letter]['prob1'].iloc[0]\n",
    "        #Penalty for having multiple of the same letters\n",
    "        if len(set(j))==2:\n",
    "                ww=prob_2_same_letter*ww\n",
    "        if len(set(j))==3:\n",
    "                ww=prob_3_same_letter*ww\n",
    "        if len(set(j))==4:\n",
    "                ww=prob_2_same_letter*ww\n",
    "        if len(set(j))==5:\n",
    "                ww=prob_all_different*ww\n",
    "        #weight all words using the weights of the letters\n",
    "        weighted_words.append(ww)\n",
    "    \n",
    "    d = {'words': words, 'weight': weighted_words}\n",
    "    new_df=pd.DataFrame(data=d)\n",
    "    new_df=new_df.sort_values(by='weight',ascending=False)\n",
    "    new_df=new_df.reset_index(drop=True)\n",
    "    next_guess=new_df.words.iloc[0]\n",
    "    return next_guess"
   ]
  },
  {
   "cell_type": "code",
   "execution_count": 33,
   "metadata": {},
   "outputs": [
    {
     "data": {
      "text/plain": [
       "'alert'"
      ]
     },
     "execution_count": 33,
     "metadata": {},
     "output_type": "execute_result"
    }
   ],
   "source": [
    "#By this method my first guess is alert\n",
    "\n",
    "next_guess_jen(table,words)"
   ]
  },
  {
   "cell_type": "markdown",
   "metadata": {},
   "source": [
    "Making a guess using Tom's method is similar except we weight the words in the full list based on what we know about the words remaining from our previous guesses. For the first guess the full list of words (words) is the same as the list of words remaining (valid_words) after getting information from previous guesses (since we have no previous guesses!)."
   ]
  },
  {
   "cell_type": "code",
   "execution_count": null,
   "metadata": {},
   "outputs": [],
   "source": [
    "def next_guess_tom(prior_prob,words,valid_words):    \n",
    "    #prior prob = table of letters and probability of appearance based on the valid words\n",
    "    #words = full list of wordle words\n",
    "    #valid_words = words remaining based on outcomes of previous guesses\n",
    "    \n",
    "    #If you know about 5 of the letter, or there is only one valid answer then guess that!\n",
    "    if (len(valid_words)<3) | (np.sum(prior_prob['prob1']==1)==5):\n",
    "        next_guess=valid_words[0]\n",
    "    else:    \n",
    "        df=prior_prob\n",
    "        next_guess=[]\n",
    "        weighted_words=[]\n",
    "        #print(words)\n",
    "        for j in words:\n",
    "            ww=0\n",
    "            for letter in j:\n",
    "                #If we know the letter is in the word remove it's weighting - we don't \n",
    "                #want to guess this again since we already have information about this letter\n",
    "                if df[df['letter']==letter]['prob1'].iloc[0]==1:\n",
    "                    ww+=0\n",
    "                #Else add the weighting based on the probability that the letter is in the word based on \n",
    "                #our remaining valid words\n",
    "                else:\n",
    "                    ww+=df[df['letter']==letter]['prob1'].iloc[0]\n",
    "        #Penalty for having multiple of the same letters\n",
    "            if len(set(j))==2:\n",
    "                ww=prob_2_same_letter*ww\n",
    "            if len(set(j))==3:\n",
    "                    ww=prob_3_same_letter*ww\n",
    "            if len(set(j))==4:\n",
    "                    ww=prob_2_same_letter*ww\n",
    "            if len(set(j))==5:\n",
    "                    ww=prob_all_different*ww    \n",
    "        #weight all words using the weights of the letters\n",
    "            weighted_words.append(ww)\n",
    "    \n",
    "        d = {'words': words, 'weight': weighted_words}\n",
    "        new_df=pd.DataFrame(data=d)\n",
    "        new_df=new_df.sort_values(by='weight',ascending=False)\n",
    "        new_df=new_df.reset_index(drop=True)\n",
    "\n",
    "        next_guess=new_df.words.iloc[0]\n",
    "    return next_guess"
   ]
  },
  {
   "cell_type": "markdown",
   "metadata": {},
   "source": [
    "For the first guess we both guess the same word since our word list is the same for full list and the remaining list."
   ]
  },
  {
   "cell_type": "code",
   "execution_count": 36,
   "metadata": {},
   "outputs": [
    {
     "data": {
      "text/plain": [
       "'alert'"
      ]
     },
     "execution_count": 36,
     "metadata": {},
     "output_type": "execute_result"
    }
   ],
   "source": [
    "next_guess_tom(table,words,words)"
   ]
  },
  {
   "cell_type": "markdown",
   "metadata": {},
   "source": [
    "# Valid words"
   ]
  },
  {
   "cell_type": "markdown",
   "metadata": {},
   "source": [
    "Next we update the valid word list based on our guess"
   ]
  },
  {
   "cell_type": "code",
   "execution_count": 21,
   "metadata": {},
   "outputs": [],
   "source": [
    "def locations(string,s):\n",
    "    lst= []\n",
    "    for i in range(len(string)):\n",
    "        if (string[i] == s):\n",
    "            lst.append(i)\n",
    "    return lst\n",
    "\n",
    "def valid_words(outcome,first_guess,words):\n",
    "    words_list=list(words)\n",
    "    position_of_y=locations(outcome,'y')\n",
    "    position_of_g=locations(outcome, 'g')\n",
    "    position_of_o=locations(outcome, 'o')\n",
    "\n",
    "    for j in words_list:\n",
    "        if j==first_guess:\n",
    "            words_list.remove(j)\n",
    "            \n",
    "    for i in position_of_y:\n",
    "        letter=first_guess[i]\n",
    "        updated_words=words_list.copy()\n",
    "        for j in updated_words:\n",
    "        #If it is not contained then remove it.\n",
    "            if (j.count(letter)==0):\n",
    "                words_list.remove(j)\n",
    "            if j[i]==letter:\n",
    "                words_list.remove(j)\n",
    "\n",
    "    for i in position_of_g:\n",
    "        letter=first_guess[i]\n",
    "        updated_words=words_list.copy()\n",
    "        for j in updated_words:\n",
    "        #If letter is not at the correct spot then remove it.\n",
    "            if (j[i]!=letter):\n",
    "                words_list.remove(j)\n",
    "\n",
    "    for i in position_of_o:\n",
    "        letter=first_guess[i]\n",
    "        updated_words=words_list.copy()\n",
    "        for j in updated_words:\n",
    "            #If it is not contained then remove it.\n",
    "            if (j.count(letter)>0):\n",
    "                words_list.remove(j)\n",
    "    return words_list"
   ]
  },
  {
   "cell_type": "markdown",
   "metadata": {},
   "source": [
    "For example the valid words after guessing 'shake' with outcome 'gggog' are as follows:"
   ]
  },
  {
   "cell_type": "code",
   "execution_count": 38,
   "metadata": {},
   "outputs": [
    {
     "data": {
      "text/plain": [
       "['shade', 'shale', 'shame', 'shape', 'share', 'shave']"
      ]
     },
     "execution_count": 38,
     "metadata": {},
     "output_type": "execute_result"
    }
   ],
   "source": [
    "valid_words('gggog','shake', words)"
   ]
  },
  {
   "cell_type": "markdown",
   "metadata": {},
   "source": [
    "Using the following bits of code we can simulate wordle for a given word"
   ]
  },
  {
   "cell_type": "code",
   "execution_count": 44,
   "metadata": {},
   "outputs": [],
   "source": [
    "def simulate_wordle(words,first_guess,print_result,actual_word):\n",
    "       \n",
    "    finish=0\n",
    "    #actual_word=random.sample(list(words),1)[0]\n",
    "    #actual_word='shade'\n",
    "    if print_result == 'on':\n",
    "        print('****ACTUAL WORD****')\n",
    "        print(actual_word)\n",
    "        \n",
    "    guess=[first_guess]\n",
    "    if print_result == 'on':\n",
    "        print('****FIRST GUESS****')\n",
    "        print(first_guess)\n",
    "    outcome=outcome_of_guess(actual_word, first_guess)\n",
    "    \n",
    "    if print_result=='on':\n",
    "        print('****OUTCOME*****')\n",
    "        print(outcome)        \n",
    "    \n",
    "    words=list(valid_words(outcome,first_guess,words))\n",
    "    \n",
    "    if first_guess==actual_word:\n",
    "        finish=1\n",
    "        #Guessed it in one!\n",
    "        \n",
    "    i=0\n",
    "    while finish==0:\n",
    "        #Determine prior probability based on distribution of letters\n",
    "        prior_prob=find_prior(words)\n",
    "        next_guess=next_guess_jen(prior_prob,words)\n",
    "        guess.append(next_guess)\n",
    "        if print_result=='on':\n",
    "            print('****GUESS*****')\n",
    "            print(next_guess)\n",
    "        i+=1\n",
    "        outcome=outcome_of_guess(actual_word, next_guess)\n",
    "        if print_result=='on':\n",
    "            print('****OUTCOME*****')\n",
    "            print(outcome)\n",
    "        #print(outcome)\n",
    "        #update state space\n",
    "        words=list(valid_words(outcome,next_guess,words))\n",
    "        if actual_word==next_guess:\n",
    "            finish=1\n",
    "    return i+1"
   ]
  },
  {
   "cell_type": "code",
   "execution_count": 40,
   "metadata": {},
   "outputs": [],
   "source": [
    "def simulate_wordle_tom(words,first_guess,print_result,actual_word):\n",
    "    \n",
    "    words=list(words)\n",
    "    finish=0\n",
    "    #actual_word='shade'\n",
    "    #random.sample(list(words),1)[0]\n",
    "    if print_result == 'on':\n",
    "        print('****ACTUAL WORD****')\n",
    "        print(actual_word)\n",
    "        \n",
    "    guess=[first_guess]\n",
    "    if print_result == 'on':\n",
    "        print('****FIRST GUESS****')\n",
    "        print(first_guess)\n",
    "    outcome=outcome_of_guess(actual_word, first_guess)\n",
    "    \n",
    "    if print_result=='on':\n",
    "        print('****OUTCOME*****')\n",
    "        print(outcome)        \n",
    "    \n",
    "    #print(first_guess)\n",
    "    v_words=list(valid_words(outcome,first_guess,words))\n",
    "    words=list(new_words_tom(outcome,first_guess,words))\n",
    "    #print(words)\n",
    "    \n",
    "    if first_guess==actual_word:\n",
    "        finish=1\n",
    "        #Guessed it in one!\n",
    "    #print(words)\n",
    "    i=0\n",
    "    while finish==0:\n",
    "        #Determine prior probability based on distribution of letters\n",
    "        prior_prob=find_prior(v_words)\n",
    "        next_guess=next_guess_tom(prior_prob,words,v_words)\n",
    "        guess.append(next_guess)\n",
    "        \n",
    "        if print_result=='on':\n",
    "            print('****GUESS*****')\n",
    "            print(next_guess)\n",
    "        i+=1\n",
    "        \n",
    "        outcome=outcome_of_guess(actual_word, next_guess)\n",
    "        if print_result=='on':\n",
    "            print('****OUTCOME*****')\n",
    "            print(outcome)\n",
    "        #print(outcome)\n",
    "        #update state space\n",
    "        #print('*****')\n",
    "        #print(next_guess)\n",
    "        v_words=list(valid_words(outcome,next_guess,v_words))\n",
    "        if words.count(next_guess)>0:\n",
    "            words.remove(next_guess)\n",
    "        #words=list(new_words_tom(outcome,next_guess,words))\n",
    "        #print(words)\n",
    "        #words.remove(next_guess)\n",
    "        if actual_word==next_guess:\n",
    "            finish=1\n",
    "    return i+1\n",
    "    \n",
    "def new_words_tom(outcome,first_guess,words):\n",
    "    words.remove(first_guess)\n",
    "    return words "
   ]
  },
  {
   "cell_type": "markdown",
   "metadata": {},
   "source": [
    "Let's test our methods on actual word 'remit'"
   ]
  },
  {
   "cell_type": "code",
   "execution_count": 41,
   "metadata": {},
   "outputs": [
    {
     "name": "stdout",
     "output_type": "stream",
     "text": [
      "****ACTUAL WORD****\n",
      "remit\n",
      "****FIRST GUESS****\n",
      "alert\n",
      "****OUTCOME*****\n",
      "ooyyg\n",
      "****GUESS*****\n",
      "imbue\n",
      "****OUTCOME*****\n",
      "yyooy\n",
      "****GUESS*****\n",
      "merit\n",
      "****OUTCOME*****\n",
      "ygygg\n",
      "****GUESS*****\n",
      "remit\n",
      "****OUTCOME*****\n",
      "ggggg\n"
     ]
    },
    {
     "data": {
      "text/plain": [
       "4"
      ]
     },
     "execution_count": 41,
     "metadata": {},
     "output_type": "execute_result"
    }
   ],
   "source": [
    "simulate_wordle_tom(words, 'alert', 'on','remit')"
   ]
  },
  {
   "cell_type": "code",
   "execution_count": 48,
   "metadata": {},
   "outputs": [
    {
     "name": "stdout",
     "output_type": "stream",
     "text": [
      "****ACTUAL WORD****\n",
      "remit\n",
      "****FIRST GUESS****\n",
      "alert\n",
      "****OUTCOME*****\n",
      "ooyyg\n",
      "****GUESS*****\n",
      "merit\n",
      "****OUTCOME*****\n",
      "ygygg\n",
      "****GUESS*****\n",
      "remit\n",
      "****OUTCOME*****\n",
      "ggggg\n"
     ]
    },
    {
     "data": {
      "text/plain": [
       "3"
      ]
     },
     "execution_count": 48,
     "metadata": {},
     "output_type": "execute_result"
    }
   ],
   "source": [
    "simulate_wordle(words, 'alert', 'on','remit')"
   ]
  },
  {
   "cell_type": "markdown",
   "metadata": {},
   "source": [
    "This code is the same but removes the print for long runs"
   ]
  },
  {
   "cell_type": "code",
   "execution_count": 46,
   "metadata": {},
   "outputs": [],
   "source": [
    "def simulate_wordle_no_print(words,first_guess,actual_word):\n",
    "       \n",
    "    finish=0\n",
    "    #actual_word=random.sample(list(words),1)[0]\n",
    "    #actual_word='shade'\n",
    "        \n",
    "    guess=[first_guess]\n",
    "    outcome=outcome_of_guess(actual_word, first_guess)\n",
    "        \n",
    "    \n",
    "    words=list(valid_words(outcome,first_guess,words))\n",
    "    \n",
    "    if first_guess==actual_word:\n",
    "        finish=1\n",
    "        #Guessed it in one!\n",
    "        \n",
    "    i=0\n",
    "    while finish==0:\n",
    "        #Determine prior probability based on distribution of letters\n",
    "        prior_prob=find_prior(words)\n",
    "        next_guess=next_guess_jen(prior_prob,words)\n",
    "        guess.append(next_guess)\n",
    "        i+=1\n",
    "        outcome=outcome_of_guess(actual_word, next_guess)\n",
    "        #print(outcome)\n",
    "        #update state space\n",
    "        words=list(valid_words(outcome,next_guess,words))\n",
    "        if actual_word==next_guess:\n",
    "            finish=1\n",
    "    return i+1\n",
    "    \n",
    "    \n",
    "\n",
    "def simulate_wordle_tom_no_print(words,first_guess,actual_word):\n",
    "    \n",
    "    words=list(words)\n",
    "    finish=0\n",
    "    #actual_word='shade'\n",
    "    #random.sample(list(words),1)[0]\n",
    "\n",
    "    guess=[first_guess]\n",
    "\n",
    "    outcome=outcome_of_guess(actual_word, first_guess)\n",
    "    \n",
    "    \n",
    "    #print(first_guess)\n",
    "    v_words=list(valid_words(outcome,first_guess,words))\n",
    "    words=list(new_words_tom(outcome,first_guess,words))\n",
    "    #print(words)\n",
    "    \n",
    "    if first_guess==actual_word:\n",
    "        finish=1\n",
    "        #Guessed it in one!\n",
    "    #print(words)\n",
    "    i=0\n",
    "    while finish==0:\n",
    "        #Determine prior probability based on distribution of letters\n",
    "        prior_prob=find_prior(v_words)\n",
    "        next_guess=next_guess_tom(prior_prob,words,v_words)\n",
    "        guess.append(next_guess)\n",
    "        \n",
    "        i+=1\n",
    "        \n",
    "        outcome=outcome_of_guess(actual_word, next_guess)\n",
    "        v_words=list(valid_words(outcome,next_guess,v_words))\n",
    "        if words.count(next_guess)>0:\n",
    "            words.remove(next_guess)\n",
    "        if actual_word==next_guess:\n",
    "            finish=1\n",
    "    return i+1"
   ]
  },
  {
   "cell_type": "markdown",
   "metadata": {},
   "source": [
    "# Expected guesses\n",
    "\n",
    "Now we are satisfied that the simulations are running as expected we can run on the entire wordspace to determine the expected number of guesses for both our methods!"
   ]
  },
  {
   "cell_type": "code",
   "execution_count": 145,
   "metadata": {},
   "outputs": [],
   "source": [
    "#Run on all words\n",
    "random_words=list(words)"
   ]
  },
  {
   "cell_type": "code",
   "execution_count": 146,
   "metadata": {},
   "outputs": [],
   "source": [
    "number_of_guesses_tom2=[]\n",
    "for i in np.arange(0,len(words)):\n",
    "    number_of_guesses_tom2.append(simulate_wordle_tom_no_print(words, 'alert',random_words[i]))"
   ]
  },
  {
   "cell_type": "code",
   "execution_count": 147,
   "metadata": {},
   "outputs": [],
   "source": [
    "number_of_guesses_jen2=[]\n",
    "for i in np.arange(0,len(words)):\n",
    "    number_of_guesses_jen2.append(simulate_wordle_no_print(words, 'alert',random_words[i]))"
   ]
  },
  {
   "cell_type": "code",
   "execution_count": 156,
   "metadata": {},
   "outputs": [
    {
     "name": "stdout",
     "output_type": "stream",
     "text": [
      "3.744276457883369\n",
      "0.7273169317782889\n"
     ]
    },
    {
     "data": {
      "image/png": "[encoded data removed]",
      "text/plain": [
       "<Figure size 432x288 with 1 Axes>"
      ]
     },
     "metadata": {
      "needs_background": "light"
     },
     "output_type": "display_data"
    }
   ],
   "source": [
    "#TOMS METHOD\n",
    "bins_list=np.arange(1,20)\n",
    "plt.hist(number_of_guesses_tom2,bins=bins_list)\n",
    "print(np.mean(number_of_guesses_tom2))\n",
    "print(np.std(number_of_guesses_tom2))\n",
    "number_of_guesses_tom2\n",
    "\n",
    "\n",
    "d = {'words': random_words, 'guesses(tom)': number_of_guesses_tom2}\n",
    "new_df=pd.DataFrame(data=d)"
   ]
  },
  {
   "cell_type": "code",
   "execution_count": 160,
   "metadata": {},
   "outputs": [
    {
     "name": "stdout",
     "output_type": "stream",
     "text": [
      "3.686393088552916\n",
      "0.9169207041303054\n"
     ]
    },
    {
     "data": {
      "image/png": "[encoded data removed]",
      "text/plain": [
       "<Figure size 432x288 with 1 Axes>"
      ]
     },
     "metadata": {
      "needs_background": "light"
     },
     "output_type": "display_data"
    }
   ],
   "source": [
    "#JENS METHOD\n",
    "bins_list=np.arange(1,20)\n",
    "plt.hist(number_of_guesses_jen2,bins=bins_list)\n",
    "print(np.mean(number_of_guesses_jen2))\n",
    "print(np.std(number_of_guesses_jen2))\n",
    "number_of_guesses_jen2\n",
    "\n",
    "\n",
    "d = {'words': random_words, 'guesses(jen)': number_of_guesses_jen2}\n",
    "new_df=pd.DataFrame(data=d)"
   ]
  },
  {
   "cell_type": "markdown",
   "metadata": {},
   "source": [
    "Overall my method takes fewer guesses on average however, the standard deviation is higher than Tom's method!"
   ]
  },
  {
   "cell_type": "code",
   "execution_count": null,
   "metadata": {},
   "outputs": [],
   "source": []
  }
 ],
 "metadata": {
  "kernelspec": {
   "display_name": "Python 3",
   "language": "python",
   "name": "python3"
  },
  "language_info": {
   "codemirror_mode": {
    "name": "ipython",
    "version": 3
   },
   "file_extension": ".py",
   "mimetype": "text/x-python",
   "name": "python",
   "nbconvert_exporter": "python",
   "pygments_lexer": "ipython3",
   "version": "3.7.4"
  }
 },
 "nbformat": 4,
 "nbformat_minor": 2
}
